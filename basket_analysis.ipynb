{
  "nbformat": 4,
  "nbformat_minor": 0,
  "metadata": {
    "colab": {
      "name": "Copy of Basket_Analysis.ipynb",
      "provenance": [],
      "collapsed_sections": []
    },
    "kernelspec": {
      "name": "python3",
      "display_name": "Python 3"
    }
  },
  "cells": [
    {
      "cell_type": "code",
      "metadata": {
        "id": "ItW7H15hFSe7",
        "colab_type": "code",
        "colab": {
          "base_uri": "https://localhost:8080/",
          "height": 221
        },
        "outputId": "721df674-b5a5-41d4-d3ee-d8180d1657da"
      },
      "source": [
        "import re\n",
        "import itertools \n",
        "import operator\n",
        "from collections import defaultdict\n",
        "import pandas as pd\n",
        "import matplotlib.pyplot as plt\n",
        "import numpy as np\n",
        "import seaborn as sns\n",
        "from heapq import nlargest \n",
        "from heapq import nsmallest\n",
        "\n",
        "\n",
        "#mount drive\n",
        "from google.colab import drive\n",
        "drive.mount('/content/drive')\n",
        "list_of_receipts = []\n",
        "\n",
        "#load to pandas to preview\n",
        "import csv\n",
        "vis_receipts = pd.read_csv('/content/drive/My Drive/Colab Notebooks/Basket Analysis/data.csv')\n",
        "vis_receipts.head()\n",
        "\n"
      ],
      "execution_count": null,
      "outputs": [
        {
          "output_type": "stream",
          "text": [
            "Drive already mounted at /content/drive; to attempt to forcibly remount, call drive.mount(\"/content/drive\", force_remount=True).\n"
          ],
          "name": "stdout"
        },
        {
          "output_type": "execute_result",
          "data": {
            "text/html": [
              "<div>\n",
              "<style scoped>\n",
              "    .dataframe tbody tr th:only-of-type {\n",
              "        vertical-align: middle;\n",
              "    }\n",
              "\n",
              "    .dataframe tbody tr th {\n",
              "        vertical-align: top;\n",
              "    }\n",
              "\n",
              "    .dataframe thead th {\n",
              "        text-align: right;\n",
              "    }\n",
              "</style>\n",
              "<table border=\"1\" class=\"dataframe\">\n",
              "  <thead>\n",
              "    <tr style=\"text-align: right;\">\n",
              "      <th></th>\n",
              "      <th>2000-01-01</th>\n",
              "      <th>1</th>\n",
              "      <th>yogurt</th>\n",
              "    </tr>\n",
              "  </thead>\n",
              "  <tbody>\n",
              "    <tr>\n",
              "      <th>0</th>\n",
              "      <td>2000-01-01</td>\n",
              "      <td>1</td>\n",
              "      <td>pork</td>\n",
              "    </tr>\n",
              "    <tr>\n",
              "      <th>1</th>\n",
              "      <td>2000-01-01</td>\n",
              "      <td>1</td>\n",
              "      <td>sandwich bags</td>\n",
              "    </tr>\n",
              "    <tr>\n",
              "      <th>2</th>\n",
              "      <td>2000-01-01</td>\n",
              "      <td>1</td>\n",
              "      <td>lunch meat</td>\n",
              "    </tr>\n",
              "    <tr>\n",
              "      <th>3</th>\n",
              "      <td>2000-01-01</td>\n",
              "      <td>1</td>\n",
              "      <td>all- purpose</td>\n",
              "    </tr>\n",
              "    <tr>\n",
              "      <th>4</th>\n",
              "      <td>2000-01-01</td>\n",
              "      <td>1</td>\n",
              "      <td>flour</td>\n",
              "    </tr>\n",
              "  </tbody>\n",
              "</table>\n",
              "</div>"
            ],
            "text/plain": [
              "   2000-01-01  1         yogurt\n",
              "0  2000-01-01  1           pork\n",
              "1  2000-01-01  1  sandwich bags\n",
              "2  2000-01-01  1     lunch meat\n",
              "3  2000-01-01  1   all- purpose\n",
              "4  2000-01-01  1          flour"
            ]
          },
          "metadata": {
            "tags": []
          },
          "execution_count": 1
        }
      ]
    },
    {
      "cell_type": "markdown",
      "metadata": {
        "id": "uQo98k7qGQrM",
        "colab_type": "text"
      },
      "source": [
        "As we can see, the file contains rows of [Date, Receipt #, Item].\n",
        "Each receipt is currently split between multiple lines. We need to aggregate these into a more usable form. \n"
      ]
    },
    {
      "cell_type": "code",
      "metadata": {
        "id": "BRGincTxH1m7",
        "colab_type": "code",
        "colab": {
          "base_uri": "https://localhost:8080/",
          "height": 71
        },
        "outputId": "0601a8f9-c058-4519-876b-bf6c4b5d80d3"
      },
      "source": [
        "#a fucntion to neatly display our rules (used later)\n",
        "def print_rules(rules, n):\n",
        "  i=0\n",
        "  print(\"---Top {} rules---\".format(n))\n",
        "  for (a,b),v in rules:\n",
        "      if i <= n:\n",
        "\n",
        "        print(\"{} -> {}: {}%\".format(a,b,round(v*100,3)))\n",
        "        i = i+1\n",
        "\n",
        "\n",
        "with open('/content/drive/My Drive/Colab Notebooks/Basket Analysis/data.csv') as f:\n",
        "  reader = csv.reader(f)\n",
        "  last_i = 1\n",
        "  receipt_items = []\n",
        "  for i,line in enumerate(reader):\n",
        "    #if receipt_index is the same as the last line, append current item to receipt_items\n",
        "    if int(line[1]) == last_i:\n",
        "      receipt_items.append(line[2])\n",
        "    #else, 1. Append the receipt_items to the list_of_receipts & start a new list with new current item\n",
        "    else:\n",
        "      list_of_receipts.append(receipt_items)\n",
        "      receipt_items = []\n",
        "      receipt_items.append(line[2])\n",
        "      last_i = last_i + 1\n",
        "\n",
        "#see how we aggregated\n",
        "print(\"Sample of Receipts: {}\".format(list_of_receipts[:2]))\n",
        "print(\"Number of Receipts: {}\".format(len(list_of_receipts)))\n"
      ],
      "execution_count": null,
      "outputs": [
        {
          "output_type": "stream",
          "text": [
            "Sample of Receipts:  [['yogurt', 'pork', 'sandwich bags', 'lunch meat', 'all- purpose', 'flour', 'soda', 'butter', 'vegetables', 'beef', 'aluminum foil', 'all- purpose', 'dinner rolls', 'shampoo', 'all- purpose', 'mixes', 'soap', 'laundry detergent', 'ice cream', 'dinner rolls'], ['toilet paper', 'shampoo', 'hand soap', 'waffles', 'vegetables', 'cheeses', 'mixes', 'milk', 'sandwich bags', 'laundry detergent', 'dishwashing liquid/detergent', 'waffles', 'individual meals', 'hand soap', 'vegetables', 'individual meals', 'yogurt', 'cereals', 'shampoo', 'vegetables', 'aluminum foil', 'tortillas', 'mixes']]\n",
            "# of Receipts:  1138\n"
          ],
          "name": "stdout"
        }
      ]
    },
    {
      "cell_type": "markdown",
      "metadata": {
        "id": "x45SX8LbfNPx",
        "colab_type": "text"
      },
      "source": [
        "Let's also see how many items are in the normal shopping cart. "
      ]
    },
    {
      "cell_type": "code",
      "metadata": {
        "id": "YHmDOJ8FfMok",
        "colab_type": "code",
        "colab": {
          "base_uri": "https://localhost:8080/",
          "height": 366
        },
        "outputId": "b68a71dd-810c-4de3-e688-7ac1c6a83775"
      },
      "source": [
        "counts_of_items = []\n",
        "for r in list_of_receipts:\n",
        "  counts_of_items.append(len(r))\n",
        "\n",
        "#print summary statistics\n",
        "min_items = min(counts_of_items)\n",
        "max_items = max(counts_of_items)\n",
        "avg_items = sum(counts_of_items)/ len(counts_of_items)\n",
        "\n",
        "print(\"Min Items: {}\".format(min_items))\n",
        "print(\"Max Items: {}\".format(max_items))\n",
        "print(\"Average Items: {}\".format(avg_items))\n",
        "\n",
        "\n",
        "\n",
        "sns.set_style('darkgrid')\n",
        "_ = plt.hist(counts_of_items)  # arguments are passed to np.histogram\n",
        "plt.title(\"Histogram of Items in Shopping Cart\")\n",
        "\n",
        "plt.show()"
      ],
      "execution_count": null,
      "outputs": [
        {
          "output_type": "stream",
          "text": [
            "Min Items: 5\n",
            "Max Items: 34\n",
            "Average Items: 19.629173989455186\n"
          ],
          "name": "stdout"
        },
        {
          "output_type": "stream",
          "text": [
            "/usr/local/lib/python3.6/dist-packages/statsmodels/tools/_testing.py:19: FutureWarning: pandas.util.testing is deprecated. Use the functions in the public API at pandas.testing instead.\n",
            "  import pandas.util.testing as tm\n"
          ],
          "name": "stderr"
        },
        {
          "output_type": "display_data",
          "data": {
            "image/png": "[encoded data removed]",
            "text/plain": [
              "<Figure size 432x288 with 1 Axes>"
            ]
          },
          "metadata": {
            "tags": []
          }
        }
      ]
    },
    {
      "cell_type": "markdown",
      "metadata": {
        "id": "v6Xt8t0QHiHI",
        "colab_type": "text"
      },
      "source": [
        "It looks like the carts range from 5-34 items, with the average being nearly 20 items per cart. \n",
        "\n",
        "For our basket analysis, we'll need counts of item occurances. \n",
        "\n",
        "We'll need a list of the occurances of every item $Freq(A)$ and the number of occurrances of pairs of items$Freq(A,B)$.\n"
      ]
    },
    {
      "cell_type": "code",
      "metadata": {
        "id": "OqnY1PFtHsd9",
        "colab_type": "code",
        "colab": {
          "base_uri": "https://localhost:8080/",
          "height": 51
        },
        "outputId": "9fa34303-d52c-40df-f96a-1c6914dc4f0c"
      },
      "source": [
        "item_counts = defaultdict(int)\n",
        "pair_counts = defaultdict(int)\n",
        "\n",
        "#count occurance of each items\n",
        "def get_item_counts(item_counts, itemset):\n",
        "    for r in itemset:\n",
        "      #add 1 to item_count for each item in each receipt\n",
        "      for item in set(r):\n",
        "        item_counts[item] += 1\n",
        "\n",
        "#count occurance of each pair\n",
        "def get_pair_counts (pair_counts, item_counts, itemset): \n",
        "    for r in itemset:\n",
        "      for combo in itertools.combinations(set(r),2):\n",
        "        if combo[0] != combo[1]:\n",
        "          pair_counts[combo] += 1\n",
        "          \n",
        "get_item_counts(item_counts, list_of_receipts)\n",
        "get_pair_counts(pair_counts, item_counts, list_of_receipts)\n",
        "\n",
        "print(\"Distinct Items: {}\".format(len(item_counts.items())))\n",
        "print(\"Disctinct Pairs: {}\".format(len(pair_counts.items())))\n"
      ],
      "execution_count": null,
      "outputs": [
        {
          "output_type": "stream",
          "text": [
            "Distinct Items: 38\n",
            "Disctinct Pairs: 1123\n"
          ],
          "name": "stdout"
        }
      ]
    },
    {
      "cell_type": "markdown",
      "metadata": {
        "id": "OkJSXV8DMUfg",
        "colab_type": "text"
      },
      "source": [
        "This is a good point to make some observations on our data. Let's look at what items sell least. We can probably eliminate these from our store if the counts are extremely low. Doing this would help us free up shelf space and reduce inventory with low turnover.  \n"
      ]
    },
    {
      "cell_type": "code",
      "metadata": {
        "id": "kDDFXMDEMeVI",
        "colab_type": "code",
        "colab": {
          "base_uri": "https://localhost:8080/",
          "height": 187
        },
        "outputId": "b31edec6-0a41-4989-cad8-1605572e100a"
      },
      "source": [
        "#get n higest/lowers items based on frequency\n",
        "high_sellers = nlargest(3, item_counts, key = item_counts.get) \n",
        "low_sellers = nsmallest(3, item_counts, key = item_counts.get) \n",
        "\n",
        "print(\"--Low Sellers--\")\n",
        "for val in low_sellers: \n",
        "    print(val, \":\", item_counts.get(val)) \n",
        "\n",
        "print(\"\\n\\n--High Sellers--\")\n",
        "for val in high_sellers: \n",
        "    print(val, \":\", item_counts.get(val)) \n"
      ],
      "execution_count": null,
      "outputs": [
        {
          "output_type": "stream",
          "text": [
            "--Low Sellers--\n",
            "hand soap : 394\n",
            "sandwich loaves : 398\n",
            "flour : 402\n",
            "\n",
            "\n",
            "--High Sellers--\n",
            "vegetables : 841\n",
            "poultry : 480\n",
            "ice cream : 454\n"
          ],
          "name": "stdout"
        }
      ]
    },
    {
      "cell_type": "markdown",
      "metadata": {
        "id": "ifBosIvqhpP7",
        "colab_type": "text"
      },
      "source": [
        "Nothing useful... We still have relatively large sales for even the items that have sold the least. And we can't just not sell hand-soap or sandwich loaves in a grocery store..."
      ]
    },
    {
      "cell_type": "markdown",
      "metadata": {
        "id": "lrU3A6fWohmf",
        "colab_type": "text"
      },
      "source": [
        "\n",
        "\n",
        "---\n",
        "\n"
      ]
    },
    {
      "cell_type": "markdown",
      "metadata": {
        "id": "leK3CtainkL1",
        "colab_type": "text"
      },
      "source": [
        "#**Association Rules**\n"
      ]
    },
    {
      "cell_type": "markdown",
      "metadata": {
        "id": "uaxLtjziky6j",
        "colab_type": "text"
      },
      "source": [
        "Lets now calculate the item and pair supports. These meausre how often we expect items (or pairs of items) to appear in random carts. \n",
        "\n",
        "$Support(A) = \\frac{frequency(A)}{N}$\n",
        "\n",
        "$Support(A\\cup B) = \\frac{frequency(A \\cup B)}{N}$"
      ]
    },
    {
      "cell_type": "code",
      "metadata": {
        "id": "ISoG_mLQc0dL",
        "colab_type": "code",
        "colab": {
          "base_uri": "https://localhost:8080/",
          "height": 136
        },
        "outputId": "81c140cf-b9d4-4365-e41b-1753cca9ea95"
      },
      "source": [
        "#Item Support\n",
        "item_support = dict()\n",
        "for k,v in item_counts.items():\n",
        "  item_support[k] = v/ len(list_of_receipts)\n",
        "\n",
        "#Pair Support\n",
        "pair_support = dict()\n",
        "for k,v in pair_counts.items():\n",
        "  pair_support[k] = v/ len(list_of_receipts)\n",
        "\n",
        "\n",
        "#sort our rules based on support \n",
        "sorted_item_support = sorted(item_support.items(), key=lambda kv: kv[1])  \n",
        "sorted_pair_support = sorted(pair_support.items(), key=lambda kv: kv[1])\n",
        "\n",
        "#print top 5 rules\n",
        "print_rules(sorted_pair_support[::-1],5)"
      ],
      "execution_count": null,
      "outputs": [
        {
          "output_type": "stream",
          "text": [
            "---Top 5 rules---\n",
            "eggs -> vegetables: 32.689%\n",
            "vegetables -> waffles: 31.371%\n",
            "vegetables -> ice cream: 30.228%\n",
            "vegetables -> sugar: 29.701%\n",
            "vegetables -> milk: 29.613%\n",
            "vegetables -> spaghetti sauce: 29.525%\n"
          ],
          "name": "stdout"
        }
      ]
    },
    {
      "cell_type": "markdown",
      "metadata": {
        "id": "FPq6O6siiAck",
        "colab_type": "text"
      },
      "source": [
        "As we can see, the average shopper has nearly a 74% chance of purchasing vegetables. We also see there's a 33% chance of purchasing both Eggs and Vegetables. \n"
      ]
    },
    {
      "cell_type": "markdown",
      "metadata": {
        "id": "i2Bbxf7pn-jj",
        "colab_type": "text"
      },
      "source": [
        "# Confidence Rules\n"
      ]
    },
    {
      "cell_type": "markdown",
      "metadata": {
        "id": "Ly-Ibh_klkec",
        "colab_type": "text"
      },
      "source": [
        "Now we'll focus on calculating the confidence rules. Here we want to determine how often item B is purchased when item A is already being purchased. \n",
        "\n",
        "$Conf(A \\Rightarrow B) = \\frac{Support(A \\cup B)}{Support(A))}$"
      ]
    },
    {
      "cell_type": "code",
      "metadata": {
        "id": "hAFXTTwLXEY6",
        "colab_type": "code",
        "colab": {
          "base_uri": "https://localhost:8080/",
          "height": 391
        },
        "outputId": "bd8b69f4-772f-4b37-efba-8223f5b6a763"
      },
      "source": [
        "#Generate Confidence Rules\n",
        "\n",
        "confidence_rules = dict()\n",
        "\n",
        "for k,v in pair_counts.items():\n",
        "  #calculate confidence\n",
        "  confidence = pair_support[k] / item_support[k[0]]\n",
        "  if confidence < 1:\n",
        "    confidence_rules[k] = confidence\n",
        "\n",
        "#sort rules by confidence\n",
        "sorted_confidence = sorted(confidence_rules.items(), key=lambda kv: kv[1])\n",
        "\n",
        "#print top 20 rules\n",
        "print_rules(sorted_confidence[::-1], 20)"
      ],
      "execution_count": null,
      "outputs": [
        {
          "output_type": "stream",
          "text": [
            "---Top 20 rules---\n",
            "eggs -> vegetables: 83.784%\n",
            "sandwich loaves -> vegetables: 80.151%\n",
            "ketchup -> vegetables: 78.487%\n",
            "dishwashing liquid/detergent -> vegetables: 72.398%\n",
            "butter -> vegetables: 59.905%\n",
            "fruits -> vegetables: 59.005%\n",
            "dinner rolls -> vegetables: 58.465%\n",
            "cereals -> vegetables: 58.093%\n",
            "poultry -> vegetables: 57.917%\n",
            "beef -> vegetables: 57.611%\n",
            "toilet paper -> vegetables: 56.148%\n",
            "laundry detergent -> vegetables: 55.116%\n",
            "lunch meat -> vegetables: 54.889%\n",
            "soap -> vegetables: 50.694%\n",
            "eggs -> soda: 47.973%\n",
            "pasta -> vegetables: 47.518%\n",
            "coffee/tea -> vegetables: 47.222%\n",
            "paper towels -> ice cream: 46.973%\n",
            "lunch meat -> waffles: 46.667%\n",
            "yogurt -> vegetables: 46.347%\n",
            "poultry -> dinner rolls: 46.25%\n"
          ],
          "name": "stdout"
        }
      ]
    },
    {
      "cell_type": "markdown",
      "metadata": {
        "id": "CksG_rpgob-1",
        "colab_type": "text"
      },
      "source": [
        "As we saw before, it's common for Eggs and Vegetables to be purchased at the same time. Indeed, if we are purchasing eggs, there's a nealry 84% chance we'll also purchase vegetables. \n"
      ]
    }
  ]
}